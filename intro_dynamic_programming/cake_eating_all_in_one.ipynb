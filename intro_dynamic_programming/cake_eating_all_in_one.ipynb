{
 "cells": [
  {
   "cell_type": "markdown",
   "metadata": {},
   "source": [
    "# The All-in-One Solution to the Cake-Eating Problem\n",
    "\n",
    "by [Manuel V. Montesinos](https://sites.google.com/view/manuelmontesinos), July 2020\n",
    "\n",
    "Let's assume an agent owns a certain resource (say a cake) which has size $a_0$. In every period $t = 0,1,2,...,\\infty$, the agent can decide how much to extract from this resource and consume, i.e., how much of the cake to eat. We denote his consumption in period $t$ as $c_t$. At each point in time the agent derives some utility from consumption, which we express by the so-called **instanteneous utility function** $u(c_t)$. We also assume that the agent's utility is additively separable over time and that the agent is impatient, meaning that he derives more utility from consuming in period $t$ than in any later period. We describe the extent of his impatience with the **time discount factor** $0 < \\beta < 1$. The total utility of the agent as of time $t=0$ is given by\n",
    "\n",
    "$U_0 = \\sum_{t=0}^\\infty \\beta^t u(c_t)$.\n",
    "\n",
    "When choosing the optimal path of consumption, the agent has to respect the constraint that he cannot extract more than the total size of his resource (i.e. the cake is all he can eat):\n",
    "\n",
    "$a_0 \\geq \\sum_{t=0}^\\infty c_t$.\n",
    "\n",
    "Under the assumption that $u'(c_t)>0$, the agent in the end consumes all his resources:\n",
    "\n",
    "$a_0 = \\sum_{t=0}^\\infty c_t$.\n",
    "\n",
    "Assume that the instanteneous utility function is\n",
    "\n",
    "$u(c_t) = \\frac{c_t^{1-\\frac{1}{\\gamma}}}{1-\\frac{1}{\\gamma}}$,\n",
    "\n",
    "where $\\gamma$ measures the **intertemporal elasticity of substitution**. All in all, the resulting dynamic optimization problem of the agent can be written as\n",
    "\n",
    "$\\max_{\\lbrace c_t \\rbrace_{t=0}^\\infty} \\sum_{t=0}^\\infty \\beta^t \\frac{c_t^{1-\\frac{1}{\\gamma}}}{1-\\frac{1}{\\gamma}}$ subject to $a_0 \\geq \\sum_{t=0}^\\infty c_t$.\n",
    "\n",
    "One way to solve this problem is by setting up a Lagrangian\n",
    "\n",
    "$\\mathcal{L} = \\beta^t \\frac{c_t^{1-\\frac{1}{\\gamma}}}{1-\\frac{1}{\\gamma}} + \\lambda \\Bigg[ a_0 - \\sum_{t=0}^\\infty c_t \\Bigg]$.\n",
    "\n",
    "Taking first-order conditions,\n",
    "\n",
    "$\\frac{\\partial \\mathcal{L}}{\\partial c_t} = \\beta^t c_t^{-\\frac{1}{\\gamma}} = \\beta^{t-1} c_{t-1}^{-\\frac{1}{\\gamma}} = ... = c_0^{-\\frac{1}{\\gamma}}$.\n",
    "\n",
    "$c_t = \\beta^\\gamma c_{t-1} = ... = \\beta^{t\\gamma}c_0$.\n",
    "\n",
    "Substituting this into the constraint yields\n",
    "\n",
    "$a_0 = \\sum_{t=0}^\\infty \\beta^{t\\gamma} c_0 = c_0 \\sum_{t=0}^\\infty (\\beta^\\gamma)^t = \\frac{c_0}{1-\\beta^\\gamma}$.\n",
    "\n",
    "Consequenty, the solution to the dynamic optimization problem is given by\n",
    "\n",
    "$c_t = \\beta^{t\\gamma} (1-\\beta^\\gamma) a_0$.\n",
    "\n",
    "Using this result, we can know calculate the optimal time path of consumption for a certain set of parameter values $a_0 = 100$, $\\beta = 0.95$, and $\\gamma = 0.5$:"
   ]
  },
  {
   "cell_type": "code",
   "execution_count": 1,
   "metadata": {},
   "outputs": [],
   "source": [
    "# Import modules\n",
    "import numpy as np\n",
    "import matplotlib.pyplot as plt \n",
    "\n",
    "# Model parameters\n",
    "gamma = 0.5;\n",
    "beta = 0.95;\n",
    "a0 = 100;\n",
    "\n",
    "# Number of periods\n",
    "TT = 200;\n",
    "\n",
    "# Calculate the time path of consumption\n",
    "c_t = np.empty(TT);\n",
    "t = np.empty(TT);\n",
    "for it in range(0,TT):\n",
    "    t[it] = it;\n",
    "    c_t[it] = beta**(it*gamma)*(1-beta**gamma)*a0;"
   ]
  },
  {
   "cell_type": "markdown",
   "metadata": {},
   "source": [
    "Now let's plot the result, and we're done:"
   ]
  },
  {
   "cell_type": "code",
   "execution_count": 2,
   "metadata": {},
   "outputs": [
    {
     "data": {
      "text/plain": [
       "Text(0.5, 1.0, 'Optimal consumption path in the cake-eating problem')"
      ]
     },
     "execution_count": 2,
     "metadata": {},
     "output_type": "execute_result"
    },
    {
     "data": {
      "image/png": "[encoded data removed]",
      "text/plain": [
       "<Figure size 432x288 with 1 Axes>"
      ]
     },
     "metadata": {
      "needs_background": "light"
     },
     "output_type": "display_data"
    }
   ],
   "source": [
    "# Plot the path\n",
    "plt.plot(t,c_t);\n",
    "\n",
    "# Name x-axis\n",
    "plt.xlabel('Time $t$')\n",
    "\n",
    "# Name y-axis\n",
    "plt.ylabel('Consumption $c_t$')\n",
    "\n",
    "# Add title\n",
    "plt.title('Optimal consumption path in the cake-eating problem')"
   ]
  },
  {
   "cell_type": "code",
   "execution_count": null,
   "metadata": {},
   "outputs": [],
   "source": []
  }
 ],
 "metadata": {
  "kernelspec": {
   "display_name": "Python 3",
   "language": "python",
   "name": "python3"
  },
  "language_info": {
   "codemirror_mode": {
    "name": "ipython",
    "version": 3
   },
   "file_extension": ".py",
   "mimetype": "text/x-python",
   "name": "python",
   "nbconvert_exporter": "python",
   "pygments_lexer": "ipython3",
   "version": "3.8.5"
  }
 },
 "nbformat": 4,
 "nbformat_minor": 4
}
